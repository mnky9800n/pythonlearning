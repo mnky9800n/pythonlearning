{
 "cells": [
  {
   "cell_type": "code",
   "execution_count": 1,
   "metadata": {},
   "outputs": [],
   "source": [
    "from sklearn.datasets import make_regression\n",
    "import matplotlib.pyplot as plt\n",
    "import pandas as pd\n",
    "import numpy as np\n",
    "%matplotlib inline"
   ]
  },
  {
   "cell_type": "code",
   "execution_count": 10,
   "metadata": {},
   "outputs": [],
   "source": [
    "X, y = make_regression(n_samples=10000,\n",
    "                             n_features=4,\n",
    "                             noise=25,\n",
    "                             random_state=0)\n",
    "X = pd.DataFrame(data=X)\n",
    "y = pd.DataFrame(data=y)\n",
    "\n",
    "df = pd.concat([y,X], axis=1)\n",
    "df[4] = df[2].apply(lambda x: 1 if x > 0.2 else 0)\n",
    "df.columns = ['predict_this', 'feature_1', 'feature_2', 'feature_3', 'feature_4', 'feature_5']"
   ]
  },
  {
   "cell_type": "code",
   "execution_count": 11,
   "metadata": {},
   "outputs": [
    {
     "data": {
      "text/html": [
       "<div>\n",
       "<style scoped>\n",
       "    .dataframe tbody tr th:only-of-type {\n",
       "        vertical-align: middle;\n",
       "    }\n",
       "\n",
       "    .dataframe tbody tr th {\n",
       "        vertical-align: top;\n",
       "    }\n",
       "\n",
       "    .dataframe thead th {\n",
       "        text-align: right;\n",
       "    }\n",
       "</style>\n",
       "<table border=\"1\" class=\"dataframe\">\n",
       "  <thead>\n",
       "    <tr style=\"text-align: right;\">\n",
       "      <th></th>\n",
       "      <th>predict_this</th>\n",
       "      <th>feature_1</th>\n",
       "      <th>feature_2</th>\n",
       "      <th>feature_3</th>\n",
       "      <th>feature_4</th>\n",
       "      <th>feature_5</th>\n",
       "    </tr>\n",
       "  </thead>\n",
       "  <tbody>\n",
       "    <tr>\n",
       "      <th>0</th>\n",
       "      <td>-37.452191</td>\n",
       "      <td>0.526392</td>\n",
       "      <td>-1.009401</td>\n",
       "      <td>0.412598</td>\n",
       "      <td>-1.036867</td>\n",
       "      <td>1</td>\n",
       "    </tr>\n",
       "    <tr>\n",
       "      <th>1</th>\n",
       "      <td>-141.824784</td>\n",
       "      <td>-0.731268</td>\n",
       "      <td>-0.604000</td>\n",
       "      <td>-0.233974</td>\n",
       "      <td>-1.074231</td>\n",
       "      <td>0</td>\n",
       "    </tr>\n",
       "    <tr>\n",
       "      <th>2</th>\n",
       "      <td>-84.871718</td>\n",
       "      <td>-0.123356</td>\n",
       "      <td>-1.164996</td>\n",
       "      <td>-0.537296</td>\n",
       "      <td>0.698108</td>\n",
       "      <td>0</td>\n",
       "    </tr>\n",
       "    <tr>\n",
       "      <th>3</th>\n",
       "      <td>149.763394</td>\n",
       "      <td>0.821555</td>\n",
       "      <td>0.820090</td>\n",
       "      <td>0.309222</td>\n",
       "      <td>-0.018756</td>\n",
       "      <td>1</td>\n",
       "    </tr>\n",
       "    <tr>\n",
       "      <th>4</th>\n",
       "      <td>198.529196</td>\n",
       "      <td>-0.376834</td>\n",
       "      <td>1.451502</td>\n",
       "      <td>0.725261</td>\n",
       "      <td>2.253717</td>\n",
       "      <td>1</td>\n",
       "    </tr>\n",
       "  </tbody>\n",
       "</table>\n",
       "</div>"
      ],
      "text/plain": [
       "   predict_this  feature_1  feature_2  feature_3  feature_4  feature_5\n",
       "0    -37.452191   0.526392  -1.009401   0.412598  -1.036867          1\n",
       "1   -141.824784  -0.731268  -0.604000  -0.233974  -1.074231          0\n",
       "2    -84.871718  -0.123356  -1.164996  -0.537296   0.698108          0\n",
       "3    149.763394   0.821555   0.820090   0.309222  -0.018756          1\n",
       "4    198.529196  -0.376834   1.451502   0.725261   2.253717          1"
      ]
     },
     "execution_count": 11,
     "metadata": {},
     "output_type": "execute_result"
    }
   ],
   "source": [
    "df.head()"
   ]
  },
  {
   "cell_type": "code",
   "execution_count": 12,
   "metadata": {},
   "outputs": [
    {
     "data": {
      "text/html": [
       "<div>\n",
       "<style scoped>\n",
       "    .dataframe tbody tr th:only-of-type {\n",
       "        vertical-align: middle;\n",
       "    }\n",
       "\n",
       "    .dataframe tbody tr th {\n",
       "        vertical-align: top;\n",
       "    }\n",
       "\n",
       "    .dataframe thead th {\n",
       "        text-align: right;\n",
       "    }\n",
       "</style>\n",
       "<table border=\"1\" class=\"dataframe\">\n",
       "  <thead>\n",
       "    <tr style=\"text-align: right;\">\n",
       "      <th></th>\n",
       "      <th>predict_this</th>\n",
       "      <th>feature_1</th>\n",
       "      <th>feature_2</th>\n",
       "      <th>feature_3</th>\n",
       "      <th>feature_4</th>\n",
       "      <th>feature_5</th>\n",
       "    </tr>\n",
       "  </thead>\n",
       "  <tbody>\n",
       "    <tr>\n",
       "      <th>predict_this</th>\n",
       "      <td>1.000000</td>\n",
       "      <td>0.660401</td>\n",
       "      <td>0.387047</td>\n",
       "      <td>0.580535</td>\n",
       "      <td>0.240102</td>\n",
       "      <td>0.458956</td>\n",
       "    </tr>\n",
       "    <tr>\n",
       "      <th>feature_1</th>\n",
       "      <td>0.660401</td>\n",
       "      <td>1.000000</td>\n",
       "      <td>-0.006957</td>\n",
       "      <td>0.011171</td>\n",
       "      <td>-0.008747</td>\n",
       "      <td>0.011699</td>\n",
       "    </tr>\n",
       "    <tr>\n",
       "      <th>feature_2</th>\n",
       "      <td>0.387047</td>\n",
       "      <td>-0.006957</td>\n",
       "      <td>1.000000</td>\n",
       "      <td>0.003738</td>\n",
       "      <td>0.013692</td>\n",
       "      <td>-0.000140</td>\n",
       "    </tr>\n",
       "    <tr>\n",
       "      <th>feature_3</th>\n",
       "      <td>0.580535</td>\n",
       "      <td>0.011171</td>\n",
       "      <td>0.003738</td>\n",
       "      <td>1.000000</td>\n",
       "      <td>0.014216</td>\n",
       "      <td>0.789590</td>\n",
       "    </tr>\n",
       "    <tr>\n",
       "      <th>feature_4</th>\n",
       "      <td>0.240102</td>\n",
       "      <td>-0.008747</td>\n",
       "      <td>0.013692</td>\n",
       "      <td>0.014216</td>\n",
       "      <td>1.000000</td>\n",
       "      <td>0.009763</td>\n",
       "    </tr>\n",
       "    <tr>\n",
       "      <th>feature_5</th>\n",
       "      <td>0.458956</td>\n",
       "      <td>0.011699</td>\n",
       "      <td>-0.000140</td>\n",
       "      <td>0.789590</td>\n",
       "      <td>0.009763</td>\n",
       "      <td>1.000000</td>\n",
       "    </tr>\n",
       "  </tbody>\n",
       "</table>\n",
       "</div>"
      ],
      "text/plain": [
       "              predict_this  feature_1  feature_2  feature_3  feature_4  \\\n",
       "predict_this      1.000000   0.660401   0.387047   0.580535   0.240102   \n",
       "feature_1         0.660401   1.000000  -0.006957   0.011171  -0.008747   \n",
       "feature_2         0.387047  -0.006957   1.000000   0.003738   0.013692   \n",
       "feature_3         0.580535   0.011171   0.003738   1.000000   0.014216   \n",
       "feature_4         0.240102  -0.008747   0.013692   0.014216   1.000000   \n",
       "feature_5         0.458956   0.011699  -0.000140   0.789590   0.009763   \n",
       "\n",
       "              feature_5  \n",
       "predict_this   0.458956  \n",
       "feature_1      0.011699  \n",
       "feature_2     -0.000140  \n",
       "feature_3      0.789590  \n",
       "feature_4      0.009763  \n",
       "feature_5      1.000000  "
      ]
     },
     "execution_count": 12,
     "metadata": {},
     "output_type": "execute_result"
    }
   ],
   "source": [
    "df.corr()"
   ]
  },
  {
   "cell_type": "code",
   "execution_count": 13,
   "metadata": {},
   "outputs": [
    {
     "data": {
      "text/html": [
       "<div>\n",
       "<style scoped>\n",
       "    .dataframe tbody tr th:only-of-type {\n",
       "        vertical-align: middle;\n",
       "    }\n",
       "\n",
       "    .dataframe tbody tr th {\n",
       "        vertical-align: top;\n",
       "    }\n",
       "\n",
       "    .dataframe thead th {\n",
       "        text-align: right;\n",
       "    }\n",
       "</style>\n",
       "<table border=\"1\" class=\"dataframe\">\n",
       "  <thead>\n",
       "    <tr style=\"text-align: right;\">\n",
       "      <th></th>\n",
       "      <th>predict_this</th>\n",
       "      <th>feature_1</th>\n",
       "      <th>feature_2</th>\n",
       "      <th>feature_3</th>\n",
       "      <th>feature_4</th>\n",
       "      <th>feature_5</th>\n",
       "    </tr>\n",
       "  </thead>\n",
       "  <tbody>\n",
       "    <tr>\n",
       "      <th>count</th>\n",
       "      <td>10000.000000</td>\n",
       "      <td>10000.000000</td>\n",
       "      <td>10000.000000</td>\n",
       "      <td>10000.000000</td>\n",
       "      <td>10000.000000</td>\n",
       "      <td>10000.00000</td>\n",
       "    </tr>\n",
       "    <tr>\n",
       "      <th>mean</th>\n",
       "      <td>-0.968673</td>\n",
       "      <td>0.004453</td>\n",
       "      <td>-0.003559</td>\n",
       "      <td>-0.011821</td>\n",
       "      <td>-0.004187</td>\n",
       "      <td>0.41660</td>\n",
       "    </tr>\n",
       "    <tr>\n",
       "      <th>std</th>\n",
       "      <td>144.740943</td>\n",
       "      <td>0.995020</td>\n",
       "      <td>0.993948</td>\n",
       "      <td>1.005389</td>\n",
       "      <td>0.992632</td>\n",
       "      <td>0.49302</td>\n",
       "    </tr>\n",
       "    <tr>\n",
       "      <th>min</th>\n",
       "      <td>-541.402965</td>\n",
       "      <td>-3.694285</td>\n",
       "      <td>-4.659953</td>\n",
       "      <td>-3.532992</td>\n",
       "      <td>-3.643294</td>\n",
       "      <td>0.00000</td>\n",
       "    </tr>\n",
       "    <tr>\n",
       "      <th>25%</th>\n",
       "      <td>-100.155109</td>\n",
       "      <td>-0.656669</td>\n",
       "      <td>-0.683687</td>\n",
       "      <td>-0.684110</td>\n",
       "      <td>-0.657166</td>\n",
       "      <td>0.00000</td>\n",
       "    </tr>\n",
       "    <tr>\n",
       "      <th>50%</th>\n",
       "      <td>0.808501</td>\n",
       "      <td>0.005918</td>\n",
       "      <td>0.000371</td>\n",
       "      <td>-0.013269</td>\n",
       "      <td>-0.006782</td>\n",
       "      <td>0.00000</td>\n",
       "    </tr>\n",
       "    <tr>\n",
       "      <th>75%</th>\n",
       "      <td>95.854537</td>\n",
       "      <td>0.671408</td>\n",
       "      <td>0.665680</td>\n",
       "      <td>0.671501</td>\n",
       "      <td>0.656786</td>\n",
       "      <td>1.00000</td>\n",
       "    </tr>\n",
       "    <tr>\n",
       "      <th>max</th>\n",
       "      <td>544.295570</td>\n",
       "      <td>3.636102</td>\n",
       "      <td>3.831790</td>\n",
       "      <td>3.801660</td>\n",
       "      <td>3.702938</td>\n",
       "      <td>1.00000</td>\n",
       "    </tr>\n",
       "  </tbody>\n",
       "</table>\n",
       "</div>"
      ],
      "text/plain": [
       "       predict_this     feature_1     feature_2     feature_3     feature_4  \\\n",
       "count  10000.000000  10000.000000  10000.000000  10000.000000  10000.000000   \n",
       "mean      -0.968673      0.004453     -0.003559     -0.011821     -0.004187   \n",
       "std      144.740943      0.995020      0.993948      1.005389      0.992632   \n",
       "min     -541.402965     -3.694285     -4.659953     -3.532992     -3.643294   \n",
       "25%     -100.155109     -0.656669     -0.683687     -0.684110     -0.657166   \n",
       "50%        0.808501      0.005918      0.000371     -0.013269     -0.006782   \n",
       "75%       95.854537      0.671408      0.665680      0.671501      0.656786   \n",
       "max      544.295570      3.636102      3.831790      3.801660      3.702938   \n",
       "\n",
       "         feature_5  \n",
       "count  10000.00000  \n",
       "mean       0.41660  \n",
       "std        0.49302  \n",
       "min        0.00000  \n",
       "25%        0.00000  \n",
       "50%        0.00000  \n",
       "75%        1.00000  \n",
       "max        1.00000  "
      ]
     },
     "execution_count": 13,
     "metadata": {},
     "output_type": "execute_result"
    }
   ],
   "source": [
    "df.describe()"
   ]
  },
  {
   "cell_type": "code",
   "execution_count": 15,
   "metadata": {},
   "outputs": [],
   "source": [
    "df.to_csv('../data/sample.csv', sep=',', encoding='utf-8', index=False)"
   ]
  },
  {
   "cell_type": "code",
   "execution_count": 4,
   "metadata": {},
   "outputs": [
    {
     "data": {
      "text/plain": [
       "<matplotlib.legend.Legend at 0x7f304668d0b8>"
      ]
     },
     "execution_count": 4,
     "metadata": {},
     "output_type": "execute_result"
    },
    {
     "data": {
      "text/plain": [
       "<Figure size 1200x1200 with 0 Axes>"
      ]
     },
     "metadata": {},
     "output_type": "display_data"
    },
    {
     "data": {
      "image/png": "[encoded data removed]",
      "text/plain": [
       "<Figure size 432x288 with 2 Axes>"
      ]
     },
     "metadata": {
      "needs_background": "light"
     },
     "output_type": "display_data"
    }
   ],
   "source": [
    "plt.figure(figsize=(8,8), dpi=150);\n",
    "X.hist()\n",
    "plt.xlabel('X')\n",
    "plt.ylabel('counts')\n",
    "plt.legend('x')"
   ]
  },
  {
   "cell_type": "code",
   "execution_count": 5,
   "metadata": {},
   "outputs": [
    {
     "data": {
      "text/plain": [
       "<matplotlib.legend.Legend at 0x7f3046684b38>"
      ]
     },
     "execution_count": 5,
     "metadata": {},
     "output_type": "execute_result"
    },
    {
     "data": {
      "image/png": "[encoded data removed]",
      "text/plain": [
       "<Figure size 432x288 with 2 Axes>"
      ]
     },
     "metadata": {
      "needs_background": "light"
     },
     "output_type": "display_data"
    }
   ],
   "source": [
    "X.hist(cumulative=True, density=1, bins=100)\n",
    "plt.xlabel('X')\n",
    "plt.ylabel('counts')\n",
    "plt.legend('x')"
   ]
  },
  {
   "cell_type": "code",
   "execution_count": null,
   "metadata": {},
   "outputs": [],
   "source": []
  }
 ],
 "metadata": {
  "kernelspec": {
   "display_name": "Python 3",
   "language": "python",
   "name": "python3"
  },
  "language_info": {
   "codemirror_mode": {
    "name": "ipython",
    "version": 3
   },
   "file_extension": ".py",
   "mimetype": "text/x-python",
   "name": "python",
   "nbconvert_exporter": "python",
   "pygments_lexer": "ipython3",
   "version": "3.6.8"
  }
 },
 "nbformat": 4,
 "nbformat_minor": 2
}
